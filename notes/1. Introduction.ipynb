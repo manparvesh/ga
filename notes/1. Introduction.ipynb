{
 "cells": [
  {
   "cell_type": "markdown",
   "metadata": {},
   "source": [
    "# Introduction to Genetic Algorithms"
   ]
  },
  {
   "cell_type": "markdown",
   "metadata": {},
   "source": [
    "## Darwin’s Principle Of Natural Selection\n",
    "- IF there are organisms that reproduce\n",
    "- IF offsprings inherit character from their progenitors\n",
    "- IF there is variability of character\n",
    "- IF the environment cannot support all members of a growing population\n",
    "- THEN those members of the population with less-adaptive traits (determined by the environment) will die out, and\n",
    "- THEN those members with more-adaptive character (determined by the environment) will flourish\n",
    "\n",
    "> Result: Evolution of species"
   ]
  },
  {
   "cell_type": "markdown",
   "metadata": {},
   "source": [
    "## Genetic Algorithms\n",
    "Search and optimization techniques based on Darwin's theory of natural selection."
   ]
  },
  {
   "cell_type": "markdown",
   "metadata": {},
   "source": [
    "### What is Optimization?\n",
    "- act of obtaining the best result under a given circumstances\n",
    "- mathematical discipline which is concerned with finding the maxima and minima of functions, possibly subject to constraints"
   ]
  }
 ],
 "metadata": {
  "kernelspec": {
   "display_name": "Python 3",
   "language": "python",
   "name": "python3"
  },
  "language_info": {
   "codemirror_mode": {
    "name": "ipython",
    "version": 3
   },
   "file_extension": ".py",
   "mimetype": "text/x-python",
   "name": "python",
   "nbconvert_exporter": "python",
   "pygments_lexer": "ipython3",
   "version": "3.6.1"
  }
 },
 "nbformat": 4,
 "nbformat_minor": 2
}
